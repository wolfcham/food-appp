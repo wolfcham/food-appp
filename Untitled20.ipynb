{
  "nbformat": 4,
  "nbformat_minor": 0,
  "metadata": {
    "colab": {
      "provenance": [],
      "authorship_tag": "ABX9TyPTbPdMn9XgEmQ+zXF5qxtm",
      "include_colab_link": true
    },
    "kernelspec": {
      "name": "python3",
      "display_name": "Python 3"
    },
    "language_info": {
      "name": "python"
    }
  },
  "cells": [
    {
      "cell_type": "markdown",
      "metadata": {
        "id": "view-in-github",
        "colab_type": "text"
      },
      "source": [
        "<a href=\"https://colab.research.google.com/github/wolfcham/food-appp/blob/main/Untitled20.ipynb\" target=\"_parent\"><img src=\"https://colab.research.google.com/assets/colab-badge.svg\" alt=\"Open In Colab\"/></a>"
      ]
    },
    {
      "cell_type": "code",
      "execution_count": 1,
      "metadata": {
        "id": "KGEEdJmlhXOo"
      },
      "outputs": [],
      "source": [
        "\n",
        "\n",
        "from tokenize import generate_tokens\n",
        "\n",
        "\n",
        "class FoodItem:\n",
        "    def __init__(self, name, quantity, price, discount, stock):\n",
        "        self.food_id = generate_tokens()\n",
        "        self.name = name\n",
        "        self.quantity = quantity\n",
        "        self.price = price\n",
        "        self.discount = discount\n",
        "        self.stock = stock\n",
        "\n",
        "class Admin:\n",
        "    def __init__(self):\n",
        "        self.food_items = []\n",
        "\n",
        "    def add_food_item(self, food_item):\n",
        "        self.food_items.append(food_item)\n",
        "\n",
        "    def edit_food_item(self, food_id, updates):\n",
        "        for food_item in self.food_items:\n",
        "            if food_item.food_id == food_id:\n",
        "                food_item.__dict__.update(updates)\n",
        "                break\n",
        "\n",
        "    def view_food_items(self):\n",
        "        return self.food_items\n",
        "\n",
        "    def remove_food_item(self, food_id):\n",
        "        self.food_items = [food_item for food_item in self.food_items if food_item.food_id != food_id]\n",
        "\n",
        "#FOr user \n",
        "class User:\n",
        "    def __init__(self, full_name, phone_number, email, address, password):\n",
        "        self.full_name = full_name\n",
        "        self.phone_number = phone_number\n",
        "        self.email = email\n",
        "        self.address = address\n",
        "        self.password = password\n",
        "        self.order_history = []\n",
        "\n",
        "    def place_new_order(self, food_items):\n",
        "        order = []\n",
        "        for index, food_item in enumerate(food_items, start=1):\n",
        "            print(f\"{index}. {food_item.name} ({food_item.quantity}) [INR {food_item.price}]\")\n",
        "        selected_indices = [int(x) for x in input(\"Enter the indices of the food items you want to order: \").split()]\n",
        "        for index in selected_indices:\n",
        "            order.append(food_items[index - 1])\n",
        "        print(\"Your Order:\")\n",
        "        for food_item in order:\n",
        "            print(f\"- {food_item.name} ({food_item.quantity}) [INR {food_item.price}]\")\n",
        "        confirm = input(\"Do you want to place this order? (yes/no)\")\n",
        "        if confirm == \"yes\":\n",
        "            self.order_history.append(order)\n",
        "            print(\"Order placed successfully!\")\n",
        "        else:\n",
        "            print(\"Order cancelled.\")\n",
        "\n",
        "    def view_order_history(self):\n",
        "        return self.order_history\n",
        "\n",
        "    def update_profile(self, updates):\n",
        "        self.__dict__.update(updates)\n"
      ]
    }
  ]
}